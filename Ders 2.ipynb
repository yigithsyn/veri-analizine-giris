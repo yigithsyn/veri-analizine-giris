{
  "cells": [
    {
      "metadata": {
        "collapsed": true
      },
      "cell_type": "markdown",
      "source": "# 2. Ders\n   \nKonular:\n- Diziler\n- Dosya okuyup yazma\n- Fonksiyonlar\n- Numpy modülü\n- Matplotlib modülü"
    },
    {
      "metadata": {},
      "cell_type": "markdown",
      "source": "## Diziler"
    },
    {
      "metadata": {
        "trusted": true
      },
      "cell_type": "code",
      "source": "array = [3,5,7,10]\nstring = \"dersler\"",
      "execution_count": 1,
      "outputs": []
    },
    {
      "metadata": {
        "trusted": true
      },
      "cell_type": "code",
      "source": "array[2]",
      "execution_count": 2,
      "outputs": [
        {
          "output_type": "execute_result",
          "execution_count": 2,
          "data": {
            "text/plain": "7"
          },
          "metadata": {}
        }
      ]
    },
    {
      "metadata": {
        "trusted": true
      },
      "cell_type": "code",
      "source": "string[4]",
      "execution_count": 3,
      "outputs": [
        {
          "output_type": "execute_result",
          "execution_count": 3,
          "data": {
            "text/plain": "'l'"
          },
          "metadata": {}
        }
      ]
    },
    {
      "metadata": {
        "trusted": true
      },
      "cell_type": "code",
      "source": "len(array)",
      "execution_count": 4,
      "outputs": [
        {
          "output_type": "execute_result",
          "execution_count": 4,
          "data": {
            "text/plain": "4"
          },
          "metadata": {}
        }
      ]
    },
    {
      "metadata": {
        "trusted": true
      },
      "cell_type": "code",
      "source": "for char in string:\n    print(char)",
      "execution_count": 5,
      "outputs": [
        {
          "output_type": "stream",
          "text": "d\ne\nr\ns\nl\ne\nr\n",
          "name": "stdout"
        }
      ]
    },
    {
      "metadata": {
        "trusted": true
      },
      "cell_type": "code",
      "source": "for i in range(len(array)):\n    print(array[i])",
      "execution_count": 6,
      "outputs": [
        {
          "output_type": "stream",
          "text": "3\n5\n7\n10\n",
          "name": "stdout"
        }
      ]
    },
    {
      "metadata": {
        "trusted": true
      },
      "cell_type": "code",
      "source": "for k in array:\n    print(k)",
      "execution_count": 7,
      "outputs": [
        {
          "output_type": "stream",
          "text": "3\n5\n7\n10\n",
          "name": "stdout"
        }
      ]
    },
    {
      "metadata": {
        "trusted": true
      },
      "cell_type": "code",
      "source": "array[3] = 9\nprint(array)",
      "execution_count": 8,
      "outputs": [
        {
          "output_type": "stream",
          "text": "[3, 5, 7, 9]\n",
          "name": "stdout"
        }
      ]
    },
    {
      "metadata": {
        "trusted": true
      },
      "cell_type": "code",
      "source": "string[3] = \"t\"",
      "execution_count": 9,
      "outputs": [
        {
          "output_type": "error",
          "ename": "TypeError",
          "evalue": "'str' object does not support item assignment",
          "traceback": [
            "\u001b[0;31m---------------------------------------------------------------------------\u001b[0m",
            "\u001b[0;31mTypeError\u001b[0m                                 Traceback (most recent call last)",
            "\u001b[0;32m<ipython-input-9-20522a3069c3>\u001b[0m in \u001b[0;36m<module>\u001b[0;34m\u001b[0m\n\u001b[0;32m----> 1\u001b[0;31m \u001b[0mstring\u001b[0m\u001b[0;34m[\u001b[0m\u001b[0;36m3\u001b[0m\u001b[0;34m]\u001b[0m \u001b[0;34m=\u001b[0m \u001b[0;34m\"t\"\u001b[0m\u001b[0;34m\u001b[0m\u001b[0m\n\u001b[0m",
            "\u001b[0;31mTypeError\u001b[0m: 'str' object does not support item assignment"
          ]
        }
      ]
    },
    {
      "metadata": {
        "trusted": true
      },
      "cell_type": "code",
      "source": "string.replace(\"s\",\"t\")",
      "execution_count": 10,
      "outputs": [
        {
          "output_type": "execute_result",
          "execution_count": 10,
          "data": {
            "text/plain": "'dertler'"
          },
          "metadata": {}
        }
      ]
    },
    {
      "metadata": {},
      "cell_type": "markdown",
      "source": "## Dosya Okuyup Yazma\n   \nVeri kaynakları:\n- Dosyalar \n- Veritabanı\n- Veri setleri"
    },
    {
      "metadata": {},
      "cell_type": "markdown",
      "source": "### Dosya okuma"
    },
    {
      "metadata": {
        "trusted": true
      },
      "cell_type": "code",
      "source": "# tek boşlukla ayrılmış metin dosyası\nwith open(\"Veriler/metin1.txt\", \"r\") as file:  \n    data = file.read()\n    print(data)\n    print(data.split())",
      "execution_count": 11,
      "outputs": [
        {
          "output_type": "stream",
          "text": "kalem kitap silgi defter çanta\n['kalem', 'kitap', 'silgi', 'defter', 'çanta']\n",
          "name": "stdout"
        }
      ]
    },
    {
      "metadata": {
        "trusted": true
      },
      "cell_type": "code",
      "source": "# alt alta satır halinde girilen metin dosyası\nwith open(\"Veriler/metin2.txt\", \"r\") as file:  \n    data = file.read()\n    print(data)",
      "execution_count": 12,
      "outputs": [
        {
          "output_type": "stream",
          "text": "kitap\nkalem\nsilgi\ndefter\nçanta\n",
          "name": "stdout"
        }
      ]
    },
    {
      "metadata": {
        "trusted": true
      },
      "cell_type": "code",
      "source": "# satırları tek tek okuma\nwith open(\"Veriler/metin2.txt\", \"r\") as file:  \n    data = file.readlines()\n    print(data)\n    ",
      "execution_count": 13,
      "outputs": [
        {
          "output_type": "stream",
          "text": "['kitap\\n', 'kalem\\n', 'silgi\\n', 'defter\\n', 'çanta']\n",
          "name": "stdout"
        }
      ]
    },
    {
      "metadata": {},
      "cell_type": "markdown",
      "source": "### Dosyaya yazma"
    },
    {
      "metadata": {
        "trusted": true
      },
      "cell_type": "code",
      "source": "with open(\"Veriler/metin_huseyin.txt\", \"w\") as file:\n    file.write(\"Merhaba\") ",
      "execution_count": 14,
      "outputs": []
    },
    {
      "metadata": {
        "trusted": true
      },
      "cell_type": "code",
      "source": "with open(\"Veriler/metin_huseyin.txt\", \"r\") as file:  \n    print(file.read())",
      "execution_count": 15,
      "outputs": [
        {
          "output_type": "stream",
          "text": "Merhaba\n",
          "name": "stdout"
        }
      ]
    },
    {
      "metadata": {},
      "cell_type": "markdown",
      "source": "## Fonksiyonlar"
    },
    {
      "metadata": {
        "trusted": true
      },
      "cell_type": "code",
      "source": "# fonksiyon tanımlayalım\ndef tek_mi_cift_mi(number):\n    if number%2 == 1:\n        print(\"Tek\")\n    else:\n        print(\"Çift\")\n\n# fonksiyonu çağıralım\ntek_mi_cift_mi(7)\n\ndef add(a, b):\n    return a+b\n    #print(a+b)\n    \nc = add(2,3)\nprint(c)",
      "execution_count": 16,
      "outputs": [
        {
          "output_type": "stream",
          "text": "Tek\n5\n",
          "name": "stdout"
        }
      ]
    },
    {
      "metadata": {},
      "cell_type": "markdown",
      "source": "## Numpy\n  \n*(Numeric Python = NumPy)*  \n  \n[Resmi Web Sitesi](https://numpy.org)"
    },
    {
      "metadata": {},
      "cell_type": "markdown",
      "source": "### Diziler"
    },
    {
      "metadata": {
        "trusted": true
      },
      "cell_type": "code",
      "source": "# modülü çalışma defterimize aktarıyoruz\nimport numpy as np",
      "execution_count": 17,
      "outputs": []
    },
    {
      "metadata": {
        "trusted": true
      },
      "cell_type": "code",
      "source": "# bir sayısal dizi oluşturalım\narr1 = np.array([1,2,3,5,7])\narr1\n#print(arr1)",
      "execution_count": 18,
      "outputs": [
        {
          "output_type": "execute_result",
          "execution_count": 18,
          "data": {
            "text/plain": "array([1, 2, 3, 5, 7])"
          },
          "metadata": {}
        }
      ]
    },
    {
      "metadata": {
        "trusted": true
      },
      "cell_type": "code",
      "source": "# 1'lerle dolu olsun\narr2 = np.ones(10)\narr2",
      "execution_count": 19,
      "outputs": [
        {
          "output_type": "execute_result",
          "execution_count": 19,
          "data": {
            "text/plain": "array([1., 1., 1., 1., 1., 1., 1., 1., 1., 1.])"
          },
          "metadata": {}
        }
      ]
    },
    {
      "metadata": {
        "trusted": true
      },
      "cell_type": "code",
      "source": "# 0'larla dolu olsun\narr3 = np.zeros(10)\narr3",
      "execution_count": 20,
      "outputs": [
        {
          "output_type": "execute_result",
          "execution_count": 20,
          "data": {
            "text/plain": "array([0., 0., 0., 0., 0., 0., 0., 0., 0., 0.])"
          },
          "metadata": {}
        }
      ]
    },
    {
      "metadata": {
        "trusted": true
      },
      "cell_type": "code",
      "source": "# Rastgeler sayılarla oluşturalım\narr4 = np.random.randint(1,100,10)\narr4",
      "execution_count": 21,
      "outputs": [
        {
          "output_type": "execute_result",
          "execution_count": 21,
          "data": {
            "text/plain": "array([ 2, 19, 22, 61, 55, 44, 69, 68, 26, 15])"
          },
          "metadata": {}
        }
      ]
    },
    {
      "metadata": {
        "trusted": true
      },
      "cell_type": "code",
      "source": "# 2 boyutlu dizi (matris) oluşturalım\narr5 = np.array([[1,2],[3,4], [5,6]])\narr5",
      "execution_count": 22,
      "outputs": [
        {
          "output_type": "execute_result",
          "execution_count": 22,
          "data": {
            "text/plain": "array([[1, 2],\n       [3, 4],\n       [5, 6]])"
          },
          "metadata": {}
        }
      ]
    },
    {
      "metadata": {
        "trusted": true
      },
      "cell_type": "code",
      "source": "# 2 boyutlu rastgele sayılardan bir dizi oluşturalım\narr6 = np.random.randint(1,100,size=(4,4))\narr6",
      "execution_count": 23,
      "outputs": [
        {
          "output_type": "execute_result",
          "execution_count": 23,
          "data": {
            "text/plain": "array([[33, 46, 11, 84],\n       [97,  9, 62, 75],\n       [73, 11, 29, 29],\n       [79,  4, 48, 63]])"
          },
          "metadata": {}
        }
      ]
    },
    {
      "metadata": {},
      "cell_type": "markdown",
      "source": "### Veri Dosyası Okuma"
    },
    {
      "metadata": {
        "trusted": true
      },
      "cell_type": "code",
      "source": "# numpy modülüne ait loadtxt fonksiyonunu kullanıyoruz.\narr7 = np.loadtxt(\"Veriler/metin2.txt\")\narr7",
      "execution_count": 24,
      "outputs": [
        {
          "output_type": "error",
          "ename": "ValueError",
          "evalue": "could not convert string to float: 'kitap'",
          "traceback": [
            "\u001b[0;31m---------------------------------------------------------------------------\u001b[0m",
            "\u001b[0;31mValueError\u001b[0m                                Traceback (most recent call last)",
            "\u001b[0;32m<ipython-input-24-e7f096e2a2de>\u001b[0m in \u001b[0;36m<module>\u001b[0;34m\u001b[0m\n\u001b[1;32m      1\u001b[0m \u001b[0;31m# numpy modülüne ait loadtxt fonksiyonunu kullanıyoruz.\u001b[0m\u001b[0;34m\u001b[0m\u001b[0;34m\u001b[0m\u001b[0m\n\u001b[0;32m----> 2\u001b[0;31m \u001b[0marr7\u001b[0m \u001b[0;34m=\u001b[0m \u001b[0mnp\u001b[0m\u001b[0;34m.\u001b[0m\u001b[0mloadtxt\u001b[0m\u001b[0;34m(\u001b[0m\u001b[0;34m\"Veriler/metin2.txt\"\u001b[0m\u001b[0;34m)\u001b[0m\u001b[0;34m\u001b[0m\u001b[0m\n\u001b[0m\u001b[1;32m      3\u001b[0m \u001b[0marr7\u001b[0m\u001b[0;34m\u001b[0m\u001b[0m\n",
            "\u001b[0;32m~/anaconda3_501/lib/python3.6/site-packages/numpy/lib/npyio.py\u001b[0m in \u001b[0;36mloadtxt\u001b[0;34m(fname, dtype, comments, delimiter, converters, skiprows, usecols, unpack, ndmin, encoding, max_rows)\u001b[0m\n\u001b[1;32m   1132\u001b[0m         \u001b[0;31m# converting the data\u001b[0m\u001b[0;34m\u001b[0m\u001b[0;34m\u001b[0m\u001b[0m\n\u001b[1;32m   1133\u001b[0m         \u001b[0mX\u001b[0m \u001b[0;34m=\u001b[0m \u001b[0;32mNone\u001b[0m\u001b[0;34m\u001b[0m\u001b[0m\n\u001b[0;32m-> 1134\u001b[0;31m         \u001b[0;32mfor\u001b[0m \u001b[0mx\u001b[0m \u001b[0;32min\u001b[0m \u001b[0mread_data\u001b[0m\u001b[0;34m(\u001b[0m\u001b[0m_loadtxt_chunksize\u001b[0m\u001b[0;34m)\u001b[0m\u001b[0;34m:\u001b[0m\u001b[0;34m\u001b[0m\u001b[0m\n\u001b[0m\u001b[1;32m   1135\u001b[0m             \u001b[0;32mif\u001b[0m \u001b[0mX\u001b[0m \u001b[0;32mis\u001b[0m \u001b[0;32mNone\u001b[0m\u001b[0;34m:\u001b[0m\u001b[0;34m\u001b[0m\u001b[0m\n\u001b[1;32m   1136\u001b[0m                 \u001b[0mX\u001b[0m \u001b[0;34m=\u001b[0m \u001b[0mnp\u001b[0m\u001b[0;34m.\u001b[0m\u001b[0marray\u001b[0m\u001b[0;34m(\u001b[0m\u001b[0mx\u001b[0m\u001b[0;34m,\u001b[0m \u001b[0mdtype\u001b[0m\u001b[0;34m)\u001b[0m\u001b[0;34m\u001b[0m\u001b[0m\n",
            "\u001b[0;32m~/anaconda3_501/lib/python3.6/site-packages/numpy/lib/npyio.py\u001b[0m in \u001b[0;36mread_data\u001b[0;34m(chunk_size)\u001b[0m\n\u001b[1;32m   1059\u001b[0m \u001b[0;34m\u001b[0m\u001b[0m\n\u001b[1;32m   1060\u001b[0m             \u001b[0;31m# Convert each value according to its column and store\u001b[0m\u001b[0;34m\u001b[0m\u001b[0;34m\u001b[0m\u001b[0m\n\u001b[0;32m-> 1061\u001b[0;31m             \u001b[0mitems\u001b[0m \u001b[0;34m=\u001b[0m \u001b[0;34m[\u001b[0m\u001b[0mconv\u001b[0m\u001b[0;34m(\u001b[0m\u001b[0mval\u001b[0m\u001b[0;34m)\u001b[0m \u001b[0;32mfor\u001b[0m \u001b[0;34m(\u001b[0m\u001b[0mconv\u001b[0m\u001b[0;34m,\u001b[0m \u001b[0mval\u001b[0m\u001b[0;34m)\u001b[0m \u001b[0;32min\u001b[0m \u001b[0mzip\u001b[0m\u001b[0;34m(\u001b[0m\u001b[0mconverters\u001b[0m\u001b[0;34m,\u001b[0m \u001b[0mvals\u001b[0m\u001b[0;34m)\u001b[0m\u001b[0;34m]\u001b[0m\u001b[0;34m\u001b[0m\u001b[0m\n\u001b[0m\u001b[1;32m   1062\u001b[0m \u001b[0;34m\u001b[0m\u001b[0m\n\u001b[1;32m   1063\u001b[0m             \u001b[0;31m# Then pack it according to the dtype's nesting\u001b[0m\u001b[0;34m\u001b[0m\u001b[0;34m\u001b[0m\u001b[0m\n",
            "\u001b[0;32m~/anaconda3_501/lib/python3.6/site-packages/numpy/lib/npyio.py\u001b[0m in \u001b[0;36m<listcomp>\u001b[0;34m(.0)\u001b[0m\n\u001b[1;32m   1059\u001b[0m \u001b[0;34m\u001b[0m\u001b[0m\n\u001b[1;32m   1060\u001b[0m             \u001b[0;31m# Convert each value according to its column and store\u001b[0m\u001b[0;34m\u001b[0m\u001b[0;34m\u001b[0m\u001b[0m\n\u001b[0;32m-> 1061\u001b[0;31m             \u001b[0mitems\u001b[0m \u001b[0;34m=\u001b[0m \u001b[0;34m[\u001b[0m\u001b[0mconv\u001b[0m\u001b[0;34m(\u001b[0m\u001b[0mval\u001b[0m\u001b[0;34m)\u001b[0m \u001b[0;32mfor\u001b[0m \u001b[0;34m(\u001b[0m\u001b[0mconv\u001b[0m\u001b[0;34m,\u001b[0m \u001b[0mval\u001b[0m\u001b[0;34m)\u001b[0m \u001b[0;32min\u001b[0m \u001b[0mzip\u001b[0m\u001b[0;34m(\u001b[0m\u001b[0mconverters\u001b[0m\u001b[0;34m,\u001b[0m \u001b[0mvals\u001b[0m\u001b[0;34m)\u001b[0m\u001b[0;34m]\u001b[0m\u001b[0;34m\u001b[0m\u001b[0m\n\u001b[0m\u001b[1;32m   1062\u001b[0m \u001b[0;34m\u001b[0m\u001b[0m\n\u001b[1;32m   1063\u001b[0m             \u001b[0;31m# Then pack it according to the dtype's nesting\u001b[0m\u001b[0;34m\u001b[0m\u001b[0;34m\u001b[0m\u001b[0m\n",
            "\u001b[0;32m~/anaconda3_501/lib/python3.6/site-packages/numpy/lib/npyio.py\u001b[0m in \u001b[0;36mfloatconv\u001b[0;34m(x)\u001b[0m\n\u001b[1;32m    766\u001b[0m         \u001b[0;32mif\u001b[0m \u001b[0;34m'0x'\u001b[0m \u001b[0;32min\u001b[0m \u001b[0mx\u001b[0m\u001b[0;34m:\u001b[0m\u001b[0;34m\u001b[0m\u001b[0m\n\u001b[1;32m    767\u001b[0m             \u001b[0;32mreturn\u001b[0m \u001b[0mfloat\u001b[0m\u001b[0;34m.\u001b[0m\u001b[0mfromhex\u001b[0m\u001b[0;34m(\u001b[0m\u001b[0mx\u001b[0m\u001b[0;34m)\u001b[0m\u001b[0;34m\u001b[0m\u001b[0m\n\u001b[0;32m--> 768\u001b[0;31m         \u001b[0;32mreturn\u001b[0m \u001b[0mfloat\u001b[0m\u001b[0;34m(\u001b[0m\u001b[0mx\u001b[0m\u001b[0;34m)\u001b[0m\u001b[0;34m\u001b[0m\u001b[0m\n\u001b[0m\u001b[1;32m    769\u001b[0m \u001b[0;34m\u001b[0m\u001b[0m\n\u001b[1;32m    770\u001b[0m     \u001b[0mtyp\u001b[0m \u001b[0;34m=\u001b[0m \u001b[0mdtype\u001b[0m\u001b[0;34m.\u001b[0m\u001b[0mtype\u001b[0m\u001b[0;34m\u001b[0m\u001b[0m\n",
            "\u001b[0;31mValueError\u001b[0m: could not convert string to float: 'kitap'"
          ]
        }
      ]
    },
    {
      "metadata": {
        "trusted": true
      },
      "cell_type": "code",
      "source": "arr8 = np.loadtxt(\"Veriler/veri1.txt\")\narr8",
      "execution_count": 25,
      "outputs": [
        {
          "output_type": "execute_result",
          "execution_count": 25,
          "data": {
            "text/plain": "array([[ 1., 40.],\n       [ 2., 60.],\n       [ 3., 30.],\n       [ 4., 34.]])"
          },
          "metadata": {}
        }
      ]
    },
    {
      "metadata": {
        "trusted": true
      },
      "cell_type": "code",
      "source": "day, question = np.loadtxt(\"Veriler/veri1.txt\", unpack=True)\nprint(day)\nprint(question)",
      "execution_count": 26,
      "outputs": [
        {
          "output_type": "stream",
          "text": "[1. 2. 3. 4.]\n[40. 60. 30. 34.]\n",
          "name": "stdout"
        }
      ]
    },
    {
      "metadata": {
        "trusted": true
      },
      "cell_type": "code",
      "source": "for i in range(4):\n    print(\"%d. gün %d soru çözdü\"%(day[i],question[i]))",
      "execution_count": 27,
      "outputs": [
        {
          "output_type": "stream",
          "text": "1. gün 40 soru çözdü\n2. gün 60 soru çözdü\n3. gün 30 soru çözdü\n4. gün 34 soru çözdü\n",
          "name": "stdout"
        }
      ]
    },
    {
      "metadata": {},
      "cell_type": "markdown",
      "source": "### Dizi İşlemleri"
    },
    {
      "metadata": {
        "trusted": true
      },
      "cell_type": "code",
      "source": "# dizideki maksimumu bulalım\nprint(arr4)\narr4_max = 0\nfor i in range(len(arr4)):\n    if arr4[i]>arr4_max:\n        arr4_max = arr4[i]\n\nprint(\"arr4 dizisinin maksimumu: %d\"%(arr4_max))",
      "execution_count": 28,
      "outputs": [
        {
          "output_type": "stream",
          "text": "[ 2 19 22 61 55 44 69 68 26 15]\narr4 dizisinin maksimumu: 69\n",
          "name": "stdout"
        }
      ]
    },
    {
      "metadata": {
        "trusted": true
      },
      "cell_type": "code",
      "source": "# şimdi işlemi farklı biçimde yapalım\narr4_max2 = np.max(arr4)\nprint(\"arr4 dizisinin maksimumu: %d\"%(arr4_max2))\n",
      "execution_count": 29,
      "outputs": [
        {
          "output_type": "stream",
          "text": "arr4 dizisinin maksimumu: 69\n",
          "name": "stdout"
        }
      ]
    },
    {
      "metadata": {
        "trusted": true
      },
      "cell_type": "code",
      "source": "# farklı matemaktiksel ifadeleri uygulayalım\nprint(np.min(arr4))",
      "execution_count": 30,
      "outputs": [
        {
          "output_type": "stream",
          "text": "2\n",
          "name": "stdout"
        }
      ]
    },
    {
      "metadata": {
        "trusted": true
      },
      "cell_type": "code",
      "source": "print(np.sqrt(arr4))",
      "execution_count": 31,
      "outputs": [
        {
          "output_type": "stream",
          "text": "[1.41421356 4.35889894 4.69041576 7.81024968 7.41619849 6.63324958\n 8.30662386 8.24621125 5.09901951 3.87298335]\n",
          "name": "stdout"
        }
      ]
    },
    {
      "metadata": {
        "trusted": true
      },
      "cell_type": "code",
      "source": "# her bir sayının karesini alalım\nprint(np.power(arr4,2))",
      "execution_count": 32,
      "outputs": [
        {
          "output_type": "stream",
          "text": "[   4  361  484 3721 3025 1936 4761 4624  676  225]\n",
          "name": "stdout"
        }
      ]
    },
    {
      "metadata": {
        "trusted": true
      },
      "cell_type": "code",
      "source": "# iki diziyi ekleyelim\nprint(arr2)\nprint(arr4)\nprint(np.add(arr4,arr2))\n#print(add(arr4,arr2))",
      "execution_count": 33,
      "outputs": [
        {
          "output_type": "stream",
          "text": "[1. 1. 1. 1. 1. 1. 1. 1. 1. 1.]\n[ 2 19 22 61 55 44 69 68 26 15]\n[ 3. 20. 23. 62. 56. 45. 70. 69. 27. 16.]\n",
          "name": "stdout"
        }
      ]
    },
    {
      "metadata": {
        "trusted": true
      },
      "cell_type": "code",
      "source": "# ancak aynı boyuttaki dizileri ekleyebiliriz\nprint(arr5)\nprint(arr4)\nprint(np.add(arr4,arr5))",
      "execution_count": 34,
      "outputs": [
        {
          "output_type": "stream",
          "text": "[[1 2]\n [3 4]\n [5 6]]\n[ 2 19 22 61 55 44 69 68 26 15]\n",
          "name": "stdout"
        },
        {
          "output_type": "error",
          "ename": "ValueError",
          "evalue": "operands could not be broadcast together with shapes (10,) (3,2) ",
          "traceback": [
            "\u001b[0;31m---------------------------------------------------------------------------\u001b[0m",
            "\u001b[0;31mValueError\u001b[0m                                Traceback (most recent call last)",
            "\u001b[0;32m<ipython-input-34-01411e0c1f83>\u001b[0m in \u001b[0;36m<module>\u001b[0;34m\u001b[0m\n\u001b[1;32m      2\u001b[0m \u001b[0mprint\u001b[0m\u001b[0;34m(\u001b[0m\u001b[0marr5\u001b[0m\u001b[0;34m)\u001b[0m\u001b[0;34m\u001b[0m\u001b[0m\n\u001b[1;32m      3\u001b[0m \u001b[0mprint\u001b[0m\u001b[0;34m(\u001b[0m\u001b[0marr4\u001b[0m\u001b[0;34m)\u001b[0m\u001b[0;34m\u001b[0m\u001b[0m\n\u001b[0;32m----> 4\u001b[0;31m \u001b[0mprint\u001b[0m\u001b[0;34m(\u001b[0m\u001b[0mnp\u001b[0m\u001b[0;34m.\u001b[0m\u001b[0madd\u001b[0m\u001b[0;34m(\u001b[0m\u001b[0marr4\u001b[0m\u001b[0;34m,\u001b[0m\u001b[0marr5\u001b[0m\u001b[0;34m)\u001b[0m\u001b[0;34m)\u001b[0m\u001b[0;34m\u001b[0m\u001b[0m\n\u001b[0m",
            "\u001b[0;31mValueError\u001b[0m: operands could not be broadcast together with shapes (10,) (3,2) "
          ]
        }
      ]
    },
    {
      "metadata": {
        "trusted": true
      },
      "cell_type": "markdown",
      "source": "## Matplotlib"
    },
    {
      "metadata": {
        "trusted": true
      },
      "cell_type": "code",
      "source": "%matplotlib inline\nimport matplotlib.pyplot as plt",
      "execution_count": 37,
      "outputs": []
    },
    {
      "metadata": {
        "trusted": true
      },
      "cell_type": "code",
      "source": "vaka = [1,1,1,5,6,15,47,98,191,359,670,947,1236,1529,1872,2433,3629,5698,7402,9217,10827]\nplt.plot(vaka)\nplt.title(\"Korona Virüs Vaka Sayısı\")\nplt.xlabel(\"Gün\")\nplt.ylabel(\"Vaka\")\nplt.grid()\nplt.show()",
      "execution_count": 38,
      "outputs": [
        {
          "output_type": "display_data",
          "data": {
            "image/png": "[encoded data removed]",
            "text/plain": "<Figure size 432x288 with 1 Axes>"
          },
          "metadata": {
            "needs_background": "light"
          }
        }
      ]
    }
  ],
  "metadata": {
    "kernelspec": {
      "name": "python36",
      "display_name": "Python 3.6",
      "language": "python"
    },
    "language_info": {
      "mimetype": "text/x-python",
      "nbconvert_exporter": "python",
      "name": "python",
      "pygments_lexer": "ipython3",
      "version": "3.6.6",
      "file_extension": ".py",
      "codemirror_mode": {
        "version": 3,
        "name": "ipython"
      }
    }
  },
  "nbformat": 4,
  "nbformat_minor": 2
}