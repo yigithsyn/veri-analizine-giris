{
  "cells": [
    {
      "metadata": {
        "collapsed": true
      },
      "cell_type": "markdown",
      "source": "# 1. Ders \n\nBu derste;\n- **Veri, Büyük Veri** ve **Veri Bilimi** nedir?\n- Veri niçin önemlidir ve nerelerde kullanılır?\n- Veri olabilme nitelikleri nelerdir?\n- Programla dilleri ve Python\n- Jupyter Notebook geliştirme ortamı\n- Python kodlama dili\n - 'Merhaba Dünya!'\n - Değişkenler\n - Akış kontrolleri\n - Döngüler\n - Diziler\n - Dosya okuyup yazma\n - Ödev  \n\nkonuları işlenecektir."
    },
    {
      "metadata": {},
      "cell_type": "markdown",
      "source": "## Veri, Büyük Veri ve Veri Bilimi Nedir?\n \n- Dijital ortamdaki ana özne \n- Analog - Digital ayrımı (Gerçek vs Sanal Dünya)\n- Veri bilimi kısaca eldeki verilerden anlamlı bilgilerin derlenmesi olayıdır. Kısmen bilgi toplama tekniklerini de kapsar.\n- Büyük Veri = Çok sayıda veri\n- ! Önemli bir husus: Büyük veri tekil girdilerle ilgilenmez.\n- ? WhatsApp, Google gibi kurumlar hangi veriyi kullanıyor\n"
    },
    {
      "metadata": {},
      "cell_type": "markdown",
      "source": "## Veri Niçin Önemlidir ve Nerelerde Kullanılır?"
    },
    {
      "metadata": {},
      "cell_type": "markdown",
      "source": "| | |\n| :-------------: |:-------------:|\n|![](https://leanbi.ch/wp-content/uploads/2019/03/DataScience-1.jpg) | ![](https://intellipaat.com/blog/wp-content/uploads/2016/11/What-is-Data-Science.docx.jpg) |\n"
    },
    {
      "metadata": {},
      "cell_type": "markdown",
      "source": "## Veri Olabilme Nitelikleri\n\n- Hangisi daha değerli veridir?\n\n - a) Video (100-2000 Mb)  \n - b) Resim (5-10 Mb)  \n - c) Metin (10 kB - 1 Mb)  \n   \n- Metin ve sayılar\n- Bilgisayarın diline yakın olma?\n - İnsan -> Ahmet işe bugün geldi mi: Geldi / Gelmedi\n - Makine -> Ahmet işe bugün geldi mi: 1 / 0"
    },
    {
      "metadata": {},
      "cell_type": "markdown",
      "source": "## Programlama Dilleri ve Python"
    },
    {
      "metadata": {},
      "cell_type": "markdown",
      "source": "[Resmi Web Sayfası](https://www.python.org/)"
    },
    {
      "metadata": {},
      "cell_type": "markdown",
      "source": "![](https://blogs-images.forbes.com/louiscolumbus/files/2019/04/LinkedIns-Top-10-Data-Science-Skills-in-April-2019.jpeg)"
    },
    {
      "metadata": {},
      "cell_type": "markdown",
      "source": "**Endsütriyel Standarttak Paket Yazılımlar**"
    },
    {
      "metadata": {},
      "cell_type": "markdown",
      "source": "| | |\n| :-------------: |:-------------:|\n|![](https://fiverr-res.cloudinary.com/images/t_main1,q_auto,f_auto/gigs/104072787/original/3977d49c5dc7048f5f9e7ac871c3b3d77de31016/do-statistical-analysis-using-r-stata-and-spss.jpg) | ![](https://corelogictechnologies.com/wp-content/uploads/2017/10/06.jpg) |"
    },
    {
      "metadata": {},
      "cell_type": "markdown",
      "source": "## Jupyter Notebook"
    },
    {
      "metadata": {},
      "cell_type": "markdown",
      "source": "- Sunucu ve Python tabanlı\n- İnteraktif defter\n- Metin + Kod + Web Sayfası\n- Azure Notebook: Microsoft'un ücretsiz deneme platformu\n- Kendi platformunuzu da kurabilirsiniz.\n"
    },
    {
      "metadata": {},
      "cell_type": "markdown",
      "source": "### Hücreler"
    },
    {
      "metadata": {
        "trusted": true
      },
      "cell_type": "code",
      "source": "# Bu bir kod hücresidir. Kodu hesaplatmak için Ctrl+Enter veya Shift+Enter'a basın\na = 2 + 5\na",
      "execution_count": 1,
      "outputs": [
        {
          "output_type": "execute_result",
          "execution_count": 1,
          "data": {
            "text/plain": "7"
          },
          "metadata": {}
        }
      ]
    },
    {
      "metadata": {},
      "cell_type": "markdown",
      "source": "Bu bir metin **Markdown** hücresidir.  \nMarkdown kullanımı için [Kullanım Kılavuzu](https://github.com/adam-p/markdown-here/wiki/Markdown-Cheatsheet)"
    },
    {
      "metadata": {},
      "cell_type": "markdown",
      "source": "## Python Programlama Dili"
    },
    {
      "metadata": {},
      "cell_type": "markdown",
      "source": "### Merhaba Dünya"
    },
    {
      "metadata": {
        "trusted": true
      },
      "cell_type": "code",
      "source": "# Ekrana yazdırma\nprint(\"Merhaba Dünya\")",
      "execution_count": 2,
      "outputs": [
        {
          "output_type": "stream",
          "text": "Merhaba Dünya\n",
          "name": "stdout"
        }
      ]
    },
    {
      "metadata": {
        "trusted": true
      },
      "cell_type": "code",
      "source": "print(2+8)",
      "execution_count": 3,
      "outputs": [
        {
          "output_type": "stream",
          "text": "10\n",
          "name": "stdout"
        }
      ]
    },
    {
      "metadata": {
        "trusted": true
      },
      "cell_type": "code",
      "source": "print(22/7)",
      "execution_count": 4,
      "outputs": [
        {
          "output_type": "stream",
          "text": "3.142857142857143\n",
          "name": "stdout"
        }
      ]
    },
    {
      "metadata": {
        "trusted": true
      },
      "cell_type": "code",
      "source": "# Metin formatlama %s, %d, %f\n# 1- %s: Harfler (Strings) \nprint(\"Merhaba, benim adım %s\"%(\"Hüseyin\"))",
      "execution_count": 5,
      "outputs": [
        {
          "output_type": "stream",
          "text": "Merhaba, benim adım Hüseyin\n",
          "name": "stdout"
        }
      ]
    },
    {
      "metadata": {
        "trusted": true
      },
      "cell_type": "code",
      "source": "# 2- %d: Tamsayılar (Integers)\nprint(\"Bir gün kaç saniyedir?: %dx%d=%d saniye\"%(24,60,24*60))",
      "execution_count": 6,
      "outputs": [
        {
          "output_type": "stream",
          "text": "Bir gün kaç saniyedir?: 24x60=1440 saniye\n",
          "name": "stdout"
        }
      ]
    },
    {
      "metadata": {
        "trusted": true
      },
      "cell_type": "code",
      "source": "# 3- %f: Virgüllü sayılar (Floating numbers)\nprint(\"Pi sayısı: Pi = %d/%d ~= %f\"%(22,7,22/7))\nprint(\"Pi sayısını virgülden sonra 2 haneye kadar yazdıralım: Pi = %d/%d ~= %.2f\"%(22,7,22/7))",
      "execution_count": 7,
      "outputs": [
        {
          "output_type": "stream",
          "text": "Pi sayısı: Pi = 22/7 ~= 3.142857\nPi sayısını virgülden sonra 2 haneye kadar yazdıralım: Pi = 22/7 ~= 3.14\n",
          "name": "stdout"
        }
      ]
    },
    {
      "metadata": {
        "trusted": true
      },
      "cell_type": "markdown",
      "source": "### Değişkenler"
    },
    {
      "metadata": {
        "trusted": true
      },
      "cell_type": "code",
      "source": "# Bir değişken tanımlayıp ona bir değer atayalım\nname = \"Hüseyin\"\nage = 25\nheight = 1.78\n\n# Şimdi bu değişkneleri yukarıdaki gibi yazdıralım\nprint('Adım: {}, Yaşım: {}, Boyum: {}'.format(name, age, height))\n\nheight = 1.80\nprint('Adım: {}, Yaşım: {}, Boyum: {}'.format(name, age, height))",
      "execution_count": 8,
      "outputs": [
        {
          "output_type": "stream",
          "text": "Adım: Hüseyin, Yaşım: 25, Boyum: 1.78\nAdım: Hüseyin, Yaşım: 25, Boyum: 1.8\n",
          "name": "stdout"
        }
      ]
    },
    {
      "metadata": {},
      "cell_type": "markdown",
      "source": "### Akış Kontrolleri"
    },
    {
      "metadata": {
        "trusted": true
      },
      "cell_type": "code",
      "source": "if age > 35:\n    print(\"Yolun yarısı bitti.\")\nelif age == 35:\n    print(\"Yolu yarıladın.\")\nelse:\n    print('Daha vaktin var gibi...')",
      "execution_count": 9,
      "outputs": [
        {
          "output_type": "stream",
          "text": "Daha vaktin var gibi...\n",
          "name": "stdout"
        }
      ]
    },
    {
      "metadata": {},
      "cell_type": "markdown",
      "source": "### Döngüler"
    },
    {
      "metadata": {},
      "cell_type": "markdown",
      "source": "#### 'for' döngüsü"
    },
    {
      "metadata": {
        "trusted": true
      },
      "cell_type": "code",
      "source": "for i in range(5):\n     print('%d yaşındasın.'%(i))",
      "execution_count": 10,
      "outputs": [
        {
          "output_type": "stream",
          "text": "0 yaşındasın.\n1 yaşındasın.\n2 yaşındasın.\n3 yaşındasın.\n4 yaşındasın.\n",
          "name": "stdout"
        }
      ]
    },
    {
      "metadata": {},
      "cell_type": "markdown",
      "source": "#### 'while' döngüsü"
    },
    {
      "metadata": {
        "trusted": true
      },
      "cell_type": "code",
      "source": "yıl = 1985\nwhile yıl < 1990:\n    print('%d yaşındasın.'%(yıl - 1985))\n    yıl += 1",
      "execution_count": 11,
      "outputs": [
        {
          "output_type": "stream",
          "text": "0 yaşındasın.\n1 yaşındasın.\n2 yaşındasın.\n3 yaşındasın.\n4 yaşındasın.\n",
          "name": "stdout"
        }
      ]
    },
    {
      "metadata": {},
      "cell_type": "markdown",
      "source": "### Diziler"
    },
    {
      "metadata": {
        "trusted": true
      },
      "cell_type": "code",
      "source": "array = [3,5,7,10]\nstring = \"dersler\"",
      "execution_count": 12,
      "outputs": []
    },
    {
      "metadata": {
        "trusted": true
      },
      "cell_type": "code",
      "source": "array[2]",
      "execution_count": 13,
      "outputs": [
        {
          "output_type": "execute_result",
          "execution_count": 13,
          "data": {
            "text/plain": "7"
          },
          "metadata": {}
        }
      ]
    },
    {
      "metadata": {
        "trusted": true
      },
      "cell_type": "code",
      "source": "string[4]",
      "execution_count": 14,
      "outputs": [
        {
          "output_type": "execute_result",
          "execution_count": 14,
          "data": {
            "text/plain": "'l'"
          },
          "metadata": {}
        }
      ]
    },
    {
      "metadata": {
        "trusted": true
      },
      "cell_type": "code",
      "source": "len(array)",
      "execution_count": 15,
      "outputs": [
        {
          "output_type": "execute_result",
          "execution_count": 15,
          "data": {
            "text/plain": "4"
          },
          "metadata": {}
        }
      ]
    },
    {
      "metadata": {
        "trusted": true
      },
      "cell_type": "code",
      "source": "for char in string:\n    print(char)",
      "execution_count": 16,
      "outputs": [
        {
          "output_type": "stream",
          "text": "d\ne\nr\ns\nl\ne\nr\n",
          "name": "stdout"
        }
      ]
    },
    {
      "metadata": {
        "trusted": true
      },
      "cell_type": "code",
      "source": "for i in range(len(array)):\n    print(array[i])",
      "execution_count": 17,
      "outputs": [
        {
          "output_type": "stream",
          "text": "3\n5\n7\n10\n",
          "name": "stdout"
        }
      ]
    },
    {
      "metadata": {
        "trusted": true
      },
      "cell_type": "code",
      "source": "array[3] = 9\nprint(array)",
      "execution_count": 18,
      "outputs": [
        {
          "output_type": "stream",
          "text": "[3, 5, 7, 9]\n",
          "name": "stdout"
        }
      ]
    },
    {
      "metadata": {
        "trusted": true
      },
      "cell_type": "code",
      "source": "string.replace(\"s\",\"t\")",
      "execution_count": 19,
      "outputs": [
        {
          "output_type": "execute_result",
          "execution_count": 19,
          "data": {
            "text/plain": "'dertler'"
          },
          "metadata": {}
        }
      ]
    }
  ],
  "metadata": {
    "kernelspec": {
      "name": "python36",
      "display_name": "Python 3.6",
      "language": "python"
    },
    "language_info": {
      "mimetype": "text/x-python",
      "nbconvert_exporter": "python",
      "name": "python",
      "pygments_lexer": "ipython3",
      "version": "3.6.6",
      "file_extension": ".py",
      "codemirror_mode": {
        "version": 3,
        "name": "ipython"
      }
    }
  },
  "nbformat": 4,
  "nbformat_minor": 2
}