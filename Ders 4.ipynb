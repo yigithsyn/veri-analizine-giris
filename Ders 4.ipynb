{
 "cells": [
  {
   "cell_type": "markdown",
   "metadata": {},
   "source": [
    "# 4. Ders\n",
    "  \n",
    "- Veritabanları\n",
    "- SQL vs NoSQL\n",
    "- MongoDB\n",
    "- pymongo - MongoDB Python module/driver\n",
    " - Koleksiyonlar\n",
    " - Kayıt ekleme\n",
    " - Kayıtları listeleme\n",
    " - Kayıt silme\n",
    " - Kayıt güncelleme"
   ]
  },
  {
   "cell_type": "markdown",
   "metadata": {},
   "source": [
    "## Veritabanları"
   ]
  },
  {
   "cell_type": "markdown",
   "metadata": {},
   "source": [
    "|        |           | \n",
    "| :-------------: |:-------------:|\n",
    "| ![](https://hlassets.paessler.com/common/files/illustration/database-monitoring.png) | ![](https://www.xenonstack.com/images/wp-content/uploads/xenonstack-list-of-popular-databases.png) |\n"
   ]
  },
  {
   "cell_type": "markdown",
   "metadata": {},
   "source": [
    "## SQL (Structured Query Language) ve No-SQL"
   ]
  },
  {
   "cell_type": "markdown",
   "metadata": {},
   "source": [
    "SQL : *Yapısal Sorgu Dili*   \n",
    "No-SQL: *Yapısal Olmayan Sorgu Dili*\n",
    "\n",
    "SQL:  \n",
    " - [\"ahmet\", 35, 40]\n",
    " - [\"mehmet\", 45, 50]\n",
    "\n",
    "NoSQL:  \n",
    " - {\"adı\": \"ahmet\", \"sözlü\": 45, \"yazılı\":60}\n",
    " - {\"adı\": \"mehmet\", \"sözlü\":50, \"kanaat\":80}"
   ]
  },
  {
   "cell_type": "markdown",
   "metadata": {},
   "source": [
    "![](https://codersera.com/blog/wp-content/uploads/2019/12/SQL-VS-NoSQL-1.jpg)"
   ]
  },
  {
   "cell_type": "markdown",
   "metadata": {},
   "source": [
    "## MongoDB\n",
    "\n",
    "[Resmi Web Sitesi](https://www.mongodb.com/)"
   ]
  },
  {
   "cell_type": "markdown",
   "metadata": {},
   "source": [
    "- NoSQL veritabanı  \n",
    "- Modern uygulamalar için en kolay, pratik ve sürdürülebilir mimarisi\n",
    "- C dilinde yazıldı.\n",
    "- Pek çok programlama dili için modülü var.\n",
    "- Elbette ki JSON verilerini kullanır."
   ]
  },
  {
   "cell_type": "markdown",
   "metadata": {},
   "source": [
    "## pymongo"
   ]
  },
  {
   "cell_type": "markdown",
   "metadata": {},
   "source": [
    "### Veritabanı Sunucusuna Bağlanma"
   ]
  },
  {
   "cell_type": "code",
   "execution_count": 7,
   "metadata": {},
   "outputs": [],
   "source": [
    "from pymongo import MongoClient\n",
    "#import pymongo\n",
    "client = MongoClient()\n",
    "database = client.test\n",
    "\n",
    "# Sunucumuz\n",
    "# --- Veritabanları\n",
    "# --- ---- Koleksiyonlar"
   ]
  },
  {
   "cell_type": "markdown",
   "metadata": {},
   "source": [
    "### Koleksiyon Oluşturma"
   ]
  },
  {
   "cell_type": "code",
   "execution_count": 15,
   "metadata": {},
   "outputs": [
    {
     "data": {
      "text/plain": [
       "Collection(Database(MongoClient(host=['localhost:27017'], document_class=dict, tz_aware=False, connect=True), 'test'), 'öğrenciler')"
      ]
     },
     "execution_count": 15,
     "metadata": {},
     "output_type": "execute_result"
    }
   ],
   "source": [
    "database.create_collection(\"öğrenciler\")"
   ]
  },
  {
   "cell_type": "code",
   "execution_count": 16,
   "metadata": {},
   "outputs": [
    {
     "data": {
      "text/plain": [
       "['öğrenciler']"
      ]
     },
     "execution_count": 16,
     "metadata": {},
     "output_type": "execute_result"
    }
   ],
   "source": [
    "database.list_collection_names()"
   ]
  },
  {
   "cell_type": "markdown",
   "metadata": {},
   "source": [
    "### Kayıt Girme"
   ]
  },
  {
   "cell_type": "code",
   "execution_count": 17,
   "metadata": {},
   "outputs": [
    {
     "data": {
      "text/plain": [
       "<pymongo.results.InsertOneResult at 0x7f812c76ca48>"
      ]
     },
     "execution_count": 17,
     "metadata": {},
     "output_type": "execute_result"
    }
   ],
   "source": [
    "database.get_collection(\"öğrenciler\").insert_one({\"ad\": \"Hatice\", \"soyad\":\"Bir\", \"sözlü\": 45, \"yazılı\":97})\n",
    "database.get_collection(\"öğrenciler\").insert_one({\"ad\": \"Ahmet\", \"soyad\":\"İki\", \"sözlü\": 55, \"yazılı\":87})\n",
    "database.get_collection(\"öğrenciler\").insert_one({\"ad\": \"Mehmet\", \"soyad\":\"Üç\", \"sözlü\": 65, \"yazılı\":77})"
   ]
  },
  {
   "cell_type": "markdown",
   "metadata": {},
   "source": [
    "### Kayıtları Listeleme"
   ]
  },
  {
   "cell_type": "code",
   "execution_count": 18,
   "metadata": {},
   "outputs": [
    {
     "data": {
      "text/plain": [
       "[{'_id': ObjectId('5e88e6c6f01fdd1a6864f34a'),\n",
       "  'ad': 'Hatice',\n",
       "  'soyad': 'Bir',\n",
       "  'sözlü': 45,\n",
       "  'yazılı': 97},\n",
       " {'_id': ObjectId('5e88e6c6f01fdd1a6864f34b'),\n",
       "  'ad': 'Ahmet',\n",
       "  'soyad': 'İki',\n",
       "  'sözlü': 55,\n",
       "  'yazılı': 87},\n",
       " {'_id': ObjectId('5e88e6c6f01fdd1a6864f34c'),\n",
       "  'ad': 'Mehmet',\n",
       "  'soyad': 'Üç',\n",
       "  'sözlü': 65,\n",
       "  'yazılı': 77}]"
      ]
     },
     "execution_count": 18,
     "metadata": {},
     "output_type": "execute_result"
    }
   ],
   "source": [
    "list(database.get_collection(\"öğrenciler\").find())"
   ]
  },
  {
   "cell_type": "markdown",
   "metadata": {},
   "source": [
    "### Kayıt Güncelleme"
   ]
  },
  {
   "cell_type": "code",
   "execution_count": 19,
   "metadata": {},
   "outputs": [
    {
     "data": {
      "text/plain": [
       "<pymongo.results.UpdateResult at 0x7f812c0317c8>"
      ]
     },
     "execution_count": 19,
     "metadata": {},
     "output_type": "execute_result"
    }
   ],
   "source": [
    "database.get_collection(\"öğrenciler2\").update_one({\"ad\": \"Ahmet\"}, {\"$set\": {\"sözlü\": 66, \"yazılı\":97}})"
   ]
  },
  {
   "cell_type": "code",
   "execution_count": 20,
   "metadata": {},
   "outputs": [
    {
     "data": {
      "text/plain": [
       "[]"
      ]
     },
     "execution_count": 20,
     "metadata": {},
     "output_type": "execute_result"
    }
   ],
   "source": [
    "list(database.get_collection(\"öğrenciler2\").find())"
   ]
  },
  {
   "cell_type": "code",
   "execution_count": 24,
   "metadata": {},
   "outputs": [
    {
     "data": {
      "text/plain": [
       "<pymongo.results.UpdateResult at 0x7f812c150708>"
      ]
     },
     "execution_count": 24,
     "metadata": {},
     "output_type": "execute_result"
    }
   ],
   "source": [
    "database.get_collection(\"öğrenciler\").update_many({}, {\"$inc\": {\"sözlü\": 5}})"
   ]
  },
  {
   "cell_type": "code",
   "execution_count": 25,
   "metadata": {},
   "outputs": [
    {
     "data": {
      "text/plain": [
       "[{'_id': ObjectId('5e88e6c6f01fdd1a6864f34a'),\n",
       "  'ad': 'Hatice',\n",
       "  'soyad': 'Bir',\n",
       "  'sözlü': 50,\n",
       "  'yazılı': 97},\n",
       " {'_id': ObjectId('5e88e6c6f01fdd1a6864f34b'),\n",
       "  'ad': 'Ahmet',\n",
       "  'soyad': 'İki',\n",
       "  'sözlü': 60,\n",
       "  'yazılı': 87},\n",
       " {'_id': ObjectId('5e88e6c6f01fdd1a6864f34c'),\n",
       "  'ad': 'Mehmet',\n",
       "  'soyad': 'Üç',\n",
       "  'sözlü': 70,\n",
       "  'yazılı': 77}]"
      ]
     },
     "execution_count": 25,
     "metadata": {},
     "output_type": "execute_result"
    }
   ],
   "source": [
    "list(database.get_collection(\"öğrenciler\").find())"
   ]
  },
  {
   "cell_type": "markdown",
   "metadata": {},
   "source": [
    "### Kayıt Silme"
   ]
  },
  {
   "cell_type": "code",
   "execution_count": 26,
   "metadata": {},
   "outputs": [
    {
     "data": {
      "text/plain": [
       "<pymongo.results.DeleteResult at 0x7f812c0eab08>"
      ]
     },
     "execution_count": 26,
     "metadata": {},
     "output_type": "execute_result"
    }
   ],
   "source": [
    "database.get_collection(\"öğrenciler\").delete_one({\"ad\": \"Ahmet\"})"
   ]
  },
  {
   "cell_type": "code",
   "execution_count": 27,
   "metadata": {},
   "outputs": [
    {
     "data": {
      "text/plain": [
       "[{'_id': ObjectId('5e88e6c6f01fdd1a6864f34a'),\n",
       "  'ad': 'Hatice',\n",
       "  'soyad': 'Bir',\n",
       "  'sözlü': 50,\n",
       "  'yazılı': 97},\n",
       " {'_id': ObjectId('5e88e6c6f01fdd1a6864f34c'),\n",
       "  'ad': 'Mehmet',\n",
       "  'soyad': 'Üç',\n",
       "  'sözlü': 70,\n",
       "  'yazılı': 77}]"
      ]
     },
     "execution_count": 27,
     "metadata": {},
     "output_type": "execute_result"
    }
   ],
   "source": [
    "list(database.get_collection(\"öğrenciler\").find())"
   ]
  },
  {
   "cell_type": "code",
   "execution_count": 28,
   "metadata": {},
   "outputs": [
    {
     "data": {
      "text/plain": [
       "<pymongo.results.DeleteResult at 0x7f812c031b88>"
      ]
     },
     "execution_count": 28,
     "metadata": {},
     "output_type": "execute_result"
    }
   ],
   "source": [
    "# tüm kayıtları diler\n",
    "database.get_collection(\"öğrenciler\").delete_many({})"
   ]
  },
  {
   "cell_type": "code",
   "execution_count": 29,
   "metadata": {},
   "outputs": [
    {
     "data": {
      "text/plain": [
       "[]"
      ]
     },
     "execution_count": 29,
     "metadata": {},
     "output_type": "execute_result"
    }
   ],
   "source": [
    "list(database.get_collection(\"öğrenciler\").find())"
   ]
  }
 ],
 "metadata": {
  "kernelspec": {
   "display_name": "Python 3",
   "language": "python",
   "name": "python3"
  },
  "language_info": {
   "codemirror_mode": {
    "name": "ipython",
    "version": 3
   },
   "file_extension": ".py",
   "mimetype": "text/x-python",
   "name": "python",
   "nbconvert_exporter": "python",
   "pygments_lexer": "ipython3",
   "version": "3.6.9"
  }
 },
 "nbformat": 4,
 "nbformat_minor": 4
}
